{
  "nbformat": 4,
  "nbformat_minor": 0,
  "metadata": {
    "colab": {
      "provenance": []
    },
    "kernelspec": {
      "name": "python3",
      "display_name": "Python 3"
    },
    "language_info": {
      "name": "python"
    }
  },
  "cells": [
    {
      "cell_type": "markdown",
      "source": [
        "# **XRP Ledger 토큰 발행 실습**\n",
        "\n",
        "이번 세션에서는 xrpl-py 라이브러리를 통해 XRP Ledger 퍼블릭 테스트넷에서 지갑을 생성하고,\n",
        "\n",
        "간단한 트랜잭션 및 토큰을 발행, 전송하는 실습을 진행해 보도록 하겠습니다."
      ],
      "metadata": {
        "id": "wM1ZqT5S0RAV"
      }
    },
    {
      "cell_type": "markdown",
      "source": [
        "## **필요 라이브러리 설치**\n",
        "\n",
        "pip install로 XRP Ledger 개발에 필요한 라이브러리들을 설치합니다."
      ],
      "metadata": {
        "id": "cXLXKG8R0yE-"
      }
    },
    {
      "cell_type": "code",
      "source": [
        "!pip install xrpl-py"
      ],
      "metadata": {
        "colab": {
          "base_uri": "https://localhost:8080/"
        },
        "id": "pArb6KiIYpRL",
        "outputId": "fb540cdb-0a93-457b-d135-9238f5ef2ae7"
      },
      "execution_count": null,
      "outputs": [
        {
          "output_type": "stream",
          "name": "stdout",
          "text": [
            "Collecting xrpl-py\n",
            "  Downloading xrpl_py-2.1.0-py3-none-any.whl (213 kB)\n",
            "\u001b[2K     \u001b[90m━━━━━━━━━━━━━━━━━━━━━━━━━━━━━━━━━━━━━━━\u001b[0m \u001b[32m213.8/213.8 kB\u001b[0m \u001b[31m2.4 MB/s\u001b[0m eta \u001b[36m0:00:00\u001b[0m\n",
            "\u001b[?25hCollecting Deprecated<2.0.0,>=1.2.13 (from xrpl-py)\n",
            "  Downloading Deprecated-1.2.14-py2.py3-none-any.whl (9.6 kB)\n",
            "Collecting ECPy<2.0.0,>=1.2.5 (from xrpl-py)\n",
            "  Downloading ECPy-1.2.5-py3-none-any.whl (43 kB)\n",
            "\u001b[2K     \u001b[90m━━━━━━━━━━━━━━━━━━━━━━━━━━━━━━━━━━━━━━━━\u001b[0m \u001b[32m43.1/43.1 kB\u001b[0m \u001b[31m2.9 MB/s\u001b[0m eta \u001b[36m0:00:00\u001b[0m\n",
            "\u001b[?25hCollecting base58<3.0.0,>=2.1.0 (from xrpl-py)\n",
            "  Downloading base58-2.1.1-py3-none-any.whl (5.6 kB)\n",
            "Collecting httpx<0.25.0,>=0.18.1 (from xrpl-py)\n",
            "  Downloading httpx-0.24.1-py3-none-any.whl (75 kB)\n",
            "\u001b[2K     \u001b[90m━━━━━━━━━━━━━━━━━━━━━━━━━━━━━━━━━━━━━━━━\u001b[0m \u001b[32m75.4/75.4 kB\u001b[0m \u001b[31m5.3 MB/s\u001b[0m eta \u001b[36m0:00:00\u001b[0m\n",
            "\u001b[?25hCollecting pycryptodome<4.0.0,>=3.16.0 (from xrpl-py)\n",
            "  Downloading pycryptodome-3.18.0-cp35-abi3-manylinux_2_17_x86_64.manylinux2014_x86_64.whl (2.1 MB)\n",
            "\u001b[2K     \u001b[90m━━━━━━━━━━━━━━━━━━━━━━━━━━━━━━━━━━━━━━━━\u001b[0m \u001b[32m2.1/2.1 MB\u001b[0m \u001b[31m8.7 MB/s\u001b[0m eta \u001b[36m0:00:00\u001b[0m\n",
            "\u001b[?25hCollecting types-Deprecated<2.0.0,>=1.2.9 (from xrpl-py)\n",
            "  Downloading types_Deprecated-1.2.9.3-py3-none-any.whl (3.3 kB)\n",
            "Requirement already satisfied: typing-extensions<5.0.0,>=4.2.0 in /usr/local/lib/python3.10/dist-packages (from xrpl-py) (4.7.1)\n",
            "Collecting websockets<11.0,>=10.0 (from xrpl-py)\n",
            "  Downloading websockets-10.4-cp310-cp310-manylinux_2_5_x86_64.manylinux1_x86_64.manylinux_2_17_x86_64.manylinux2014_x86_64.whl (106 kB)\n",
            "\u001b[2K     \u001b[90m━━━━━━━━━━━━━━━━━━━━━━━━━━━━━━━━━━━━━━━\u001b[0m \u001b[32m106.8/106.8 kB\u001b[0m \u001b[31m5.2 MB/s\u001b[0m eta \u001b[36m0:00:00\u001b[0m\n",
            "\u001b[?25hRequirement already satisfied: wrapt<2,>=1.10 in /usr/local/lib/python3.10/dist-packages (from Deprecated<2.0.0,>=1.2.13->xrpl-py) (1.14.1)\n",
            "Requirement already satisfied: certifi in /usr/local/lib/python3.10/dist-packages (from httpx<0.25.0,>=0.18.1->xrpl-py) (2023.5.7)\n",
            "Collecting httpcore<0.18.0,>=0.15.0 (from httpx<0.25.0,>=0.18.1->xrpl-py)\n",
            "  Downloading httpcore-0.17.3-py3-none-any.whl (74 kB)\n",
            "\u001b[2K     \u001b[90m━━━━━━━━━━━━━━━━━━━━━━━━━━━━━━━━━━━━━━━━\u001b[0m \u001b[32m74.5/74.5 kB\u001b[0m \u001b[31m5.5 MB/s\u001b[0m eta \u001b[36m0:00:00\u001b[0m\n",
            "\u001b[?25hRequirement already satisfied: idna in /usr/local/lib/python3.10/dist-packages (from httpx<0.25.0,>=0.18.1->xrpl-py) (3.4)\n",
            "Requirement already satisfied: sniffio in /usr/local/lib/python3.10/dist-packages (from httpx<0.25.0,>=0.18.1->xrpl-py) (1.3.0)\n",
            "Collecting h11<0.15,>=0.13 (from httpcore<0.18.0,>=0.15.0->httpx<0.25.0,>=0.18.1->xrpl-py)\n",
            "  Downloading h11-0.14.0-py3-none-any.whl (58 kB)\n",
            "\u001b[2K     \u001b[90m━━━━━━━━━━━━━━━━━━━━━━━━━━━━━━━━━━━━━━━━\u001b[0m \u001b[32m58.3/58.3 kB\u001b[0m \u001b[31m5.1 MB/s\u001b[0m eta \u001b[36m0:00:00\u001b[0m\n",
            "\u001b[?25hRequirement already satisfied: anyio<5.0,>=3.0 in /usr/local/lib/python3.10/dist-packages (from httpcore<0.18.0,>=0.15.0->httpx<0.25.0,>=0.18.1->xrpl-py) (3.7.1)\n",
            "Requirement already satisfied: exceptiongroup in /usr/local/lib/python3.10/dist-packages (from anyio<5.0,>=3.0->httpcore<0.18.0,>=0.15.0->httpx<0.25.0,>=0.18.1->xrpl-py) (1.1.2)\n",
            "Installing collected packages: types-Deprecated, ECPy, websockets, pycryptodome, h11, Deprecated, base58, httpcore, httpx, xrpl-py\n",
            "Successfully installed Deprecated-1.2.14 ECPy-1.2.5 base58-2.1.1 h11-0.14.0 httpcore-0.17.3 httpx-0.24.1 pycryptodome-3.18.0 types-Deprecated-1.2.9.3 websockets-10.4 xrpl-py-2.1.0\n"
          ]
        }
      ]
    },
    {
      "cell_type": "code",
      "source": [
        "# 일반적인 환경에서는 필요 없는 부분입니다.\n",
        "# colab의 특성상 async 함수 동작 시에 이 부분 처리가 필요합니다.\n",
        "!pip install nest_asyncio\n",
        "import nest_asyncio\n",
        "nest_asyncio.apply()"
      ],
      "metadata": {
        "colab": {
          "base_uri": "https://localhost:8080/"
        },
        "id": "oNh-z23eZzTz",
        "outputId": "ca757db4-3280-4d80-a63f-bd2db8f4a95f"
      },
      "execution_count": null,
      "outputs": [
        {
          "output_type": "stream",
          "name": "stdout",
          "text": [
            "Requirement already satisfied: nest_asyncio in /usr/local/lib/python3.10/dist-packages (1.5.6)\n"
          ]
        }
      ]
    },
    {
      "cell_type": "markdown",
      "source": [
        "## **지갑 생성 (Wallet Creation)**\n",
        "\n",
        "테스트넷에서 지갑을 생성하고, XRP Ledger와 통신하기 위한 클라이언트 객체를 생성합니다.\n",
        "\n",
        "그리고 `faucet` 서비스를 통해 테스트용 xrp를 받는 실습을 진행합니다."
      ],
      "metadata": {
        "id": "YDHTTcJnz_aU"
      }
    },
    {
      "cell_type": "markdown",
      "source": [
        "![cryptographic-keys.svg](data:image/svg+xml;base64,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)"
      ],
      "metadata": {
        "id": "V9My9Pro1UDz"
      }
    },
    {
      "cell_type": "markdown",
      "source": [
        "### **XRP Ledger 계정 생성 원리**\n",
        "\n",
        "XRP Ledger의 비대칭 키 생성은 Elliptic Curve Cryptography(ECC) 기반입니다. 이는 매우 큰 두 개의 소수의 곱을 인수분해하는 것이 사실상 불가능하기 때문에 강력한 보안을 제공합니다.\n",
        "\n",
        "#### **키 생성 과정**\n",
        "\n",
        "1. **시드 생성**\n",
        "\n",
        "    사용자는 임의의 시드를 선택하거나 생성합니다. XRP Ledger에서는 암호학적으로 안전한 난수 생성기를 사용해 16바이트의 임의의 데이터를 생성해서 원시 시드로 사용합니다. 원시 시드는 Base58Check 인코딩을 통해 다시 s로 시작하는 29자리의 문자열로 변환됩니다.\n",
        "\n",
        "2. **비공개 키 생성**\n",
        "\n",
        "    앞에서 생성한 원시 시드를 사용하여 타원곡선 DSA (Elliptic Curve Digital Signature Algorithm, ECDSA)를 통해 비공개 키를 생성합니다. 비공개 키를 생성하는 과정은 타원곡선의 기본 점(G)을 원시 시드(s)번 곱하는 것으로, 이 연산을 통해 타원곡선 위의 새로운 점(P)이 얻어지게 됩니다. 즉, 비공개 키는 기본적으로 타원곡선 위의 한 점입니다.\n",
        "\n",
        "3. **공개 키 생성**\n",
        "\n",
        "    비공개 키를 사용하여 공개 키를 생성합니다. 공개 키는 비공개 키(타원곡선 위의 점)에 타원곡선의 기본 점을 곱하여 얻어집니다. 이렇게 생성된 공개 키는 비밀 키를 알지 못하는 다른 사람들이 메시지를 암호화하거나 디지털 서명을 검증하는 데 사용될 수 있습니다.\n",
        "\n",
        "4. **계정 ID 생성**\n",
        "\n",
        "    공개 키는 다시 계정 ID로 해시됩니다. 이 계정 ID는 공개 키의 SHA-256 해시이며, 이 해시의 첫 20바이트만 사용됩니다.\n",
        "\n",
        "5. **XRP Ledger 주소 생성**\n",
        "\n",
        "    계정 ID는 최종적으로 XRP Ledger 주소로 변환됩니다. 이 변환은 Base58Check 인코딩을 사용하며, 이는 주소의 첫 글자가 'r'로 시작하게 만듭니다. 이 인코딩 방식은 오류 감지 기능을 내장하고 있어, 주소를 잘못 입력했을 때 이를 감지할 수 있게 합니다.\n",
        "\n",
        "이러한 과정을 통해 XRP Ledger에서 사용할 수 있는 지갑이 생성됩니다. 하지만 실제 지갑 생성 시에는 직접 이 과정을 따라할 필요는 없고, 모든 과정이 자동으로 사용자의 기기에서 안전하게 이루어지게 됩니다."
      ],
      "metadata": {
        "id": "uXIR0Ph9F8UX"
      }
    },
    {
      "cell_type": "code",
      "execution_count": null,
      "metadata": {
        "id": "BU8WKFFLYjkn"
      },
      "outputs": [],
      "source": [
        "from xrpl.wallet import Wallet, generate_faucet_wallet\n",
        "from xrpl.clients import JsonRpcClient"
      ]
    },
    {
      "cell_type": "code",
      "source": [
        "TESTNET_URL = \"https://s.altnet.rippletest.net:51234\"\n",
        "client = JsonRpcClient(TESTNET_URL)"
      ],
      "metadata": {
        "id": "lWr6imvvZQVI"
      },
      "execution_count": null,
      "outputs": []
    },
    {
      "cell_type": "code",
      "source": [
        "wallet = generate_faucet_wallet(client=client, debug=True)"
      ],
      "metadata": {
        "colab": {
          "base_uri": "https://localhost:8080/"
        },
        "id": "CMbIu_IVY42T",
        "outputId": "67c6a128-6a0b-4a8e-ccf1-f5b49c31610b"
      },
      "execution_count": null,
      "outputs": [
        {
          "output_type": "stream",
          "name": "stdout",
          "text": [
            "Attempting to fund address rUZqTpdnyYnkeHEJh9NeDMCtwVVLmTcWqb\n",
            "Faucet fund successful.\n"
          ]
        }
      ]
    },
    {
      "cell_type": "code",
      "source": [
        "wallet.__dict__"
      ],
      "metadata": {
        "colab": {
          "base_uri": "https://localhost:8080/"
        },
        "id": "NvGSu8ZaZ5Dy",
        "outputId": "7d3f74bb-d1a5-4487-9eea-05c1061c7f3f"
      },
      "execution_count": null,
      "outputs": [
        {
          "output_type": "execute_result",
          "data": {
            "text/plain": [
              "{'seed': 'sEd7tisqNGMTigf2Fn8NRxa1dpHhTsN',\n",
              " 'algorithm': <CryptoAlgorithm.ED25519: 'ed25519'>,\n",
              " 'public_key': 'EDB1D941F4A2B0E74011A9EB7D7C0BE1FC7F17B9A2BD77598900DD4F5E5CA0AD80',\n",
              " 'private_key': 'ED290F27733E021071085175B1D3A10EE184EF36A5BFB4D93B67DFEDE14597F0CD',\n",
              " '_address': 'rUZqTpdnyYnkeHEJh9NeDMCtwVVLmTcWqb'}"
            ]
          },
          "metadata": {},
          "execution_count": 7
        }
      ]
    },
    {
      "cell_type": "code",
      "source": [
        "wallet.address"
      ],
      "metadata": {
        "colab": {
          "base_uri": "https://localhost:8080/",
          "height": 35
        },
        "id": "yKTrSQMXHkNp",
        "outputId": "23ad1256-294f-4b5b-cb8f-87ce4cbfa0ce"
      },
      "execution_count": null,
      "outputs": [
        {
          "output_type": "execute_result",
          "data": {
            "text/plain": [
              "'rUZqTpdnyYnkeHEJh9NeDMCtwVVLmTcWqb'"
            ],
            "application/vnd.google.colaboratory.intrinsic+json": {
              "type": "string"
            }
          },
          "metadata": {},
          "execution_count": 8
        }
      ]
    },
    {
      "cell_type": "code",
      "source": [
        "dest_wallet = generate_faucet_wallet(client)"
      ],
      "metadata": {
        "id": "nXWKsAbGaJ5r"
      },
      "execution_count": null,
      "outputs": []
    },
    {
      "cell_type": "markdown",
      "source": [
        "## **트랜잭션 (Transaction)**\n",
        "\n",
        "트랜잭션의 lifecycle에 대해 알아보고,\n",
        "\n",
        "가장 기본적인 트랜잭션인 XRP를 보내는 Payment 트랜잭션을 실행해 보겠습니다."
      ],
      "metadata": {
        "id": "O0a5d7iE_rrI"
      }
    },
    {
      "cell_type": "code",
      "source": [
        "from xrpl.transaction import (\n",
        "    autofill_and_sign,\n",
        "    submit_and_wait,\n",
        "    XRPLReliableSubmissionException,\n",
        ")\n",
        "from xrpl.models.transactions import Transaction, Payment"
      ],
      "metadata": {
        "id": "gD8MfJHQAFd6"
      },
      "execution_count": null,
      "outputs": []
    },
    {
      "cell_type": "markdown",
      "source": [
        "### **트랜잭션 Lifecycle**\n",
        "\n",
        "트랜잭션의 생명주기는 트랜잭션 생성부터 최종적으로 레저에 포함될 때까지의 과정을 포함합니다. 각 단계는 다음과 같습니다:"
      ],
      "metadata": {
        "id": "aooNZUUvDz2k"
      }
    },
    {
      "cell_type": "markdown",
      "source": [
        "1. **트랜잭션 생성**:\n",
        "\n",
        "    트랜잭션 객체는 필요한 필드(트랜잭션 유형, 계정, 수신자, 금액 등)를 포함하여 생성됩니다. 이 단계에서는 필요한 모든 데이터를 수집하고 유효성을 검사합니다.\n",
        "    [`xrpl.models.transactions`](https://xrpl-py.readthedocs.io/en/latest/source/xrpl.models.transactions.html#module-xrpl.models.transactions)에서 올바른 트랜잭션 유형을 선택하고, 필요한 필드를 채워넣어 트랜잭션을 생성할 수 있습니다.  \n",
        "    필요한 필드는 직접 채우거나 [`xrpl.transaction.autofill`](https://xrpl-py.readthedocs.io/en/latest/source/xrpl.transaction.html#xrpl.transaction.autofill) 함수를 사용하여 자동으로 채워넣을 수 있습니다.\n",
        "\n",
        "2. **트랜잭션 서명**:\n",
        "\n",
        "    트랜잭션은 송신자의 비밀키로 서명되어야 합니다. 이는 트랜잭션의 발송인이 자신의 계정을 제어하고 트랜잭션을 생성했음을 증명합니다.\n",
        "\n",
        "    트랜잭션 객체의 [`sign`](https://xrpl-py.readthedocs.io/en/latest/source/xrpl.transaction.html#xrpl.transaction.sign) 메서드를 사용하여 트랜잭션을 서명할 수 있습니다.\n",
        "\n",
        "3. **트랜잭션 제출**:\n",
        "\n",
        "    서명된 트랜잭션은 XRP Ledger에 제출되어 다음 유효성 검사 단계로 넘어갑니다. 제출된 트랜잭션은 대기열에 들어가며, 다음 레저에서 처리될 차례를 기다립니다.\n",
        "\n",
        "    트랜잭션 객체의 [`submit`](https://xrpl-py.readthedocs.io/en/latest/source/xrpl.transaction.html#xrpl.transaction.submit) 메서드를 사용하여 트랜잭션을 제출할 수 있습니다.\n",
        "\n",
        "4. **트랜잭션 검증**:\n",
        "\n",
        "    레저의 새 버전을 만드는 검증자들은 제출된 트랜잭션을 검증하고 처리합니다. 트랜잭션이 유효하다면 (예: 충분한 잔고, 올바른 서명 등), 이는 새 레저에 포함됩니다.\n",
        "\n",
        "    _트랜잭션이 레저에 포함되면, 이는 더 이상 변경될 수 없습니다._\n",
        "\n",
        "5. **최종 트랜잭션**:\n",
        "\n",
        "    트랜잭션이 레저에 포함되면, 이는 완료된 상태로 간주되며, 관련된 계정 상태(예: 잔고)는 이 트랜잭션에 따라 업데이트됩니다."
      ],
      "metadata": {
        "id": "Ii2fEgyfOQtH"
      }
    },
    {
      "cell_type": "code",
      "source": [
        "def submit_transaction(\n",
        "        client: JsonRpcClient,\n",
        "        wallet: Wallet,\n",
        "        transaction: Transaction,\n",
        "        check_fee: bool = True,\n",
        "    ) -> dict:\n",
        "        \"\"\"\n",
        "        트랜잭션을 제출하고 그 결과를 반환합니다.\n",
        "\n",
        "        Args:\n",
        "            client (JsonRpcClient): XRPL과 통신하기 위한 클라이언트 객체 입니다.\n",
        "            wallet (Wallet): 트랜잭션을 제출하는 계정의 지갑 객체입니다.\n",
        "            transaction (Transaction): 제출할 트랜잭션입니다.\n",
        "            check_fee (bool, optional): 수수료를 확인할지 여부입니다. 기본값으로 True를 사용합니다.\n",
        "\n",
        "        Returns:\n",
        "            dict: 트랜잭션의 결과입니다.\n",
        "\n",
        "        Raises:\n",
        "            XRPLReliableSubmissionException: 트랜잭션 제출이 실패하면 발생합니다.\n",
        "        \"\"\"\n",
        "        # Autofill and sign transaction\n",
        "        signed_tx = autofill_and_sign(\n",
        "            transaction=transaction,\n",
        "            client=client,\n",
        "            wallet=wallet,\n",
        "            check_fee=check_fee,\n",
        "        )\n",
        "\n",
        "        # Validate transaction\n",
        "        signed_tx.validate()\n",
        "\n",
        "        # Send transaction and get response\n",
        "        response = submit_and_wait(\n",
        "            transaction=signed_tx, client=client, wallet=wallet\n",
        "        )\n",
        "\n",
        "        # Raise exception if transaction failed\n",
        "        if not response.is_successful():\n",
        "            raise XRPLReliableSubmissionException(response.result)\n",
        "\n",
        "        # Return result\n",
        "        return response.result"
      ],
      "metadata": {
        "id": "hPAQIWm6_rN5"
      },
      "execution_count": null,
      "outputs": []
    },
    {
      "cell_type": "markdown",
      "source": [
        "### **Payment 트랜잭션 생성 및 제출**\n",
        "\n",
        "XRP를 한 계정으로부터 다른 계정으로 보내는 트랜잭션을 생성하고 보내는 과정을 설명하겠습니다."
      ],
      "metadata": {
        "id": "snhGHgOiHITd"
      }
    },
    {
      "cell_type": "markdown",
      "source": [
        "트랜잭션에 필수적인 필드들 이외에도 선택적으로 전달할 수 있는 매개변수들이 있습니다.\n",
        "\n",
        "[XRP Ledger 공식문서](https://xrpl.org/transaction-common-fields.html)를 참고하세요."
      ],
      "metadata": {
        "id": "Sh7W6SR8QgJJ"
      }
    },
    {
      "cell_type": "code",
      "source": [
        "def send_xrp(\n",
        "    client: JsonRpcClient,\n",
        "    wallet: Wallet,\n",
        "    destination_address: str,\n",
        "    amount: str | int,\n",
        "    **kwargs,\n",
        ") -> dict:\n",
        "    \"\"\"\n",
        "    이 계정에서 목적지 주소로 토큰을 보냅니다.\n",
        "\n",
        "    Args:\n",
        "        client (JsonRpcClient): XRPL과 통신하기 위한 클라이언트 객체 입니다.\n",
        "        wallet (Wallet): 토큰을 보내는 계정의 지갑 객체입니다.\n",
        "        destination_address (str): 토큰을 받을 계정의 주소입니다.\n",
        "        amount (str | int): 보낼 토큰의 양입니다.\n",
        "        **kwargs: 트랜잭션 설정에 추가로 전달할 선택적 매개변수입니다.\n",
        "\n",
        "    Returns:\n",
        "        dict: 트랜잭션의 결과입니다.\n",
        "    \"\"\"\n",
        "    # create payment transaction\n",
        "    payment_tx = Payment(\n",
        "        account=wallet.address,\n",
        "        amount=str(amount),\n",
        "        destination=destination_address,\n",
        "        **kwargs,\n",
        "    )\n",
        "\n",
        "    # Submit transaction and return result\n",
        "    return submit_transaction(\n",
        "        client=client, wallet=wallet, transaction=payment_tx, check_fee=True\n",
        "    )"
      ],
      "metadata": {
        "id": "s_kWE9o1C2Vo"
      },
      "execution_count": null,
      "outputs": []
    },
    {
      "cell_type": "code",
      "source": [
        "result = send_xrp(\n",
        "    client=client,\n",
        "    wallet=wallet,\n",
        "    destination_address=dest_wallet.address,\n",
        "    amount=\"1000\",\n",
        ")"
      ],
      "metadata": {
        "id": "fe6WJ7ZSHGh_"
      },
      "execution_count": null,
      "outputs": []
    },
    {
      "cell_type": "code",
      "source": [
        "result"
      ],
      "metadata": {
        "colab": {
          "base_uri": "https://localhost:8080/"
        },
        "id": "Nzy5bzjbICv-",
        "outputId": "dd3a9f1d-c6da-4370-ac22-ae7b9e8c62bf"
      },
      "execution_count": null,
      "outputs": [
        {
          "output_type": "execute_result",
          "data": {
            "text/plain": [
              "{'Account': 'rGkJhixWWpXHPD4ebcrZAAr37bnMMguhj',\n",
              " 'Amount': '1000',\n",
              " 'Destination': 'rBALEkaidLzjynofASY8cfD85a5Vsp76ZQ',\n",
              " 'Fee': '10',\n",
              " 'Flags': 0,\n",
              " 'LastLedgerSequence': 39806425,\n",
              " 'Sequence': 39806402,\n",
              " 'SigningPubKey': 'ED4C6A63E0F8EB7FBD1D8B6A37513B3557DDA6F468A14737C7DE805BE71C657D2D',\n",
              " 'TransactionType': 'Payment',\n",
              " 'TxnSignature': 'B8A696B2000B1A147E70CD7D4185E26B9F34B9615BA5FDBDC27C8A9B0789F674B973569491BB82B0635072B814BAF598128641E77005D11CFC1D9E244191450D',\n",
              " 'date': 743675772,\n",
              " 'hash': '8628FE16875076B59364578E1EA5478FF1D173F095D0154F2F175524A4F1A8E8',\n",
              " 'inLedger': 39806407,\n",
              " 'ledger_index': 39806407,\n",
              " 'meta': {'AffectedNodes': [{'ModifiedNode': {'FinalFields': {'Account': 'rGkJhixWWpXHPD4ebcrZAAr37bnMMguhj',\n",
              "      'Balance': '9999998990',\n",
              "      'Flags': 0,\n",
              "      'OwnerCount': 0,\n",
              "      'Sequence': 39806403},\n",
              "     'LedgerEntryType': 'AccountRoot',\n",
              "     'LedgerIndex': '668598A052707517F7EF0707978CD9A83BC7EFDC166576AF856BD67FCB8921F3',\n",
              "     'PreviousFields': {'Balance': '10000000000', 'Sequence': 39806402},\n",
              "     'PreviousTxnID': 'E96CFD20ED955A905E33D0D376AC8AF74F095A13C6D09596B6D21248D360A018',\n",
              "     'PreviousTxnLgrSeq': 39806402}},\n",
              "   {'ModifiedNode': {'FinalFields': {'Account': 'rBALEkaidLzjynofASY8cfD85a5Vsp76ZQ',\n",
              "      'Balance': '10000001000',\n",
              "      'Flags': 0,\n",
              "      'OwnerCount': 0,\n",
              "      'Sequence': 39806404},\n",
              "     'LedgerEntryType': 'AccountRoot',\n",
              "     'LedgerIndex': 'E016AF54516F077BDCD20D13FF54D3BBD13C360C6489E59FF41C5F7864E40664',\n",
              "     'PreviousFields': {'Balance': '10000000000'},\n",
              "     'PreviousTxnID': '2BA612A06C74A4D3D805A74009853DC416CDFFA933A26996D1B41B1009B07EA3',\n",
              "     'PreviousTxnLgrSeq': 39806404}}],\n",
              "  'TransactionIndex': 0,\n",
              "  'TransactionResult': 'tesSUCCESS',\n",
              "  'delivered_amount': '1000'},\n",
              " 'validated': True}"
            ]
          },
          "metadata": {},
          "execution_count": 41
        }
      ]
    },
    {
      "cell_type": "markdown",
      "source": [
        "## **레저 정보 확인**\n",
        "\n",
        "클라이언트에게 Ledger의 정보를 요청(request) 하면, 레저의 정보를 받아올 수 있습니다. 특히 계정의 정보를 가져올 때 유용합니다.\n",
        "\n",
        "이를 위해서는 `Request` 객체를 생성하고, `client`의 `request` 메서드를 부르면 됩니다."
      ],
      "metadata": {
        "id": "zssjj7R0Ik8n"
      }
    },
    {
      "cell_type": "code",
      "source": [
        "from xrpl.clients import XRPLRequestFailureException\n",
        "from xrpl.models.requests import (\n",
        "    Request,\n",
        "    AccountInfo,\n",
        "    AccountTx,\n",
        ")"
      ],
      "metadata": {
        "id": "Bh8KmjbrJf5J"
      },
      "execution_count": null,
      "outputs": []
    },
    {
      "cell_type": "code",
      "source": [
        "def request_ledger(client: JsonRpcClient, request: Request) -> dict:\n",
        "    \"\"\"\n",
        "    XRPL 네트워크에 ledger 요청을 보냅니다.\n",
        "\n",
        "    Args:\n",
        "        client (JsonRpcClient): 요청을 보낼 클라이언트입니다.\n",
        "        request (Request): 보낼 요청 객체입니다.\n",
        "\n",
        "    Returns:\n",
        "        dict: 요청의 결과를 포함하는 딕셔너리 객체입니다.\n",
        "\n",
        "    Raises:\n",
        "        XRPLRequestFailureException: 요청이 실패하면 발생합니다.\n",
        "    \"\"\"\n",
        "    # Send request and get response\n",
        "    response = client.request(request)\n",
        "\n",
        "    # Raise exception if request failed\n",
        "    if not response.is_successful():\n",
        "        raise XRPLRequestFailureException(response.result)\n",
        "\n",
        "    # Return result\n",
        "    return response.result"
      ],
      "metadata": {
        "id": "fQ-n0qjuJGCo"
      },
      "execution_count": null,
      "outputs": []
    },
    {
      "cell_type": "markdown",
      "source": [
        "### **계정 정보**\n",
        "\n",
        "XRP 잔액이나, 계정의 설정(flag) 등을 확인할 수 있는 리퀘스트입니다."
      ],
      "metadata": {
        "id": "lustMEhzLbN-"
      }
    },
    {
      "cell_type": "code",
      "source": [
        "def get_account_info(\n",
        "    client: JsonRpcClient, address: str, **kwargs\n",
        ") -> dict:\n",
        "    \"\"\"\n",
        "    XRPL 네트워크에서 이 계정의 정보를 가져옵니다.\n",
        "\n",
        "    Args:\n",
        "        client (JsonRpcClient): 요청을 보낼 클라이언트입니다.\n",
        "        address (str): 계정 정보를 조회할 계정의 주소입니다.\n",
        "        **kwargs: 추가적인 선택적 매개변수들입니다.\n",
        "\n",
        "    Returns:\n",
        "        dict: 이 계정의 정보를 포함하는 딕셔너리 객체입니다.\n",
        "    \"\"\"\n",
        "    return request_ledger(client, AccountInfo(account=address, **kwargs))"
      ],
      "metadata": {
        "id": "NGicEccNJyYM"
      },
      "execution_count": null,
      "outputs": []
    },
    {
      "cell_type": "code",
      "source": [
        "result = get_account_info(client=client, address=wallet.address)"
      ],
      "metadata": {
        "id": "gJbyvPMmKb0I"
      },
      "execution_count": null,
      "outputs": []
    },
    {
      "cell_type": "code",
      "source": [
        "result"
      ],
      "metadata": {
        "colab": {
          "base_uri": "https://localhost:8080/"
        },
        "id": "xTnY5QX4KzKY",
        "outputId": "82e1d506-0e8b-4ce8-9a10-6c579d77d4dd"
      },
      "execution_count": null,
      "outputs": [
        {
          "output_type": "execute_result",
          "data": {
            "text/plain": [
              "{'account_data': {'Account': 'rGkJhixWWpXHPD4ebcrZAAr37bnMMguhj',\n",
              "  'Balance': '9999998990',\n",
              "  'Flags': 0,\n",
              "  'LedgerEntryType': 'AccountRoot',\n",
              "  'OwnerCount': 0,\n",
              "  'PreviousTxnID': '8628FE16875076B59364578E1EA5478FF1D173F095D0154F2F175524A4F1A8E8',\n",
              "  'PreviousTxnLgrSeq': 39806407,\n",
              "  'Sequence': 39806403,\n",
              "  'index': '668598A052707517F7EF0707978CD9A83BC7EFDC166576AF856BD67FCB8921F3'},\n",
              " 'account_flags': {'defaultRipple': False,\n",
              "  'depositAuth': False,\n",
              "  'disableMasterKey': False,\n",
              "  'disallowIncomingCheck': False,\n",
              "  'disallowIncomingNFTokenOffer': False,\n",
              "  'disallowIncomingPayChan': False,\n",
              "  'disallowIncomingTrustline': False,\n",
              "  'disallowIncomingXRP': False,\n",
              "  'globalFreeze': False,\n",
              "  'noFreeze': False,\n",
              "  'passwordSpent': False,\n",
              "  'requireAuthorization': False,\n",
              "  'requireDestinationTag': False},\n",
              " 'ledger_current_index': 39806408,\n",
              " 'validated': False}"
            ]
          },
          "metadata": {},
          "execution_count": 46
        }
      ]
    },
    {
      "cell_type": "markdown",
      "source": [
        "### **계정의 트랜잭션 정보들 가져오기**\n",
        "\n",
        "계정의 트랜잭션 정보들을 가져옵니다. `limit`은 검색할 거래의 개수로, 파라미터를 주지 않거나 0으로 주면 전부 가져옵니다."
      ],
      "metadata": {
        "id": "D-0Xf1fWLmao"
      }
    },
    {
      "cell_type": "code",
      "source": [
        "def get_account_transactions(\n",
        "    client: JsonRpcClient, address: str, limit: int = 0, **kwargs\n",
        ") -> dict:\n",
        "    \"\"\"\n",
        "    XRPL 네트워크에서 이 계정의 거래 내역을 가져옵니다.\n",
        "\n",
        "    Args:\n",
        "        client (JsonRpcClient): 요청을 보낼 클라이언트입니다.\n",
        "        address (Address): 거래 내역을 조회할 계정의 주소입니다.\n",
        "        limit (Optional[int]): 검색할 거래의 최대 개수입니다. 0이면 모두 검색합니다. 기본값은 0입니다.\n",
        "        **kwargs: 추가적인 선택적 매개변수들입니다.\n",
        "\n",
        "    Returns:\n",
        "        Result: 이 계정의 거래 내역을 포함하는 Result 객체입니다.\n",
        "    \"\"\"\n",
        "    result = request_ledger(\n",
        "        client, AccountTx(account=address, limit=limit, **kwargs)\n",
        "    )\n",
        "    return result[\"transactions\"]"
      ],
      "metadata": {
        "id": "X-A4u7l0K3Wh"
      },
      "execution_count": null,
      "outputs": []
    },
    {
      "cell_type": "code",
      "source": [
        "result = get_account_transactions(client=client, address=wallet.address)"
      ],
      "metadata": {
        "id": "E6ugXoV7LFib"
      },
      "execution_count": null,
      "outputs": []
    },
    {
      "cell_type": "code",
      "source": [
        "result"
      ],
      "metadata": {
        "colab": {
          "base_uri": "https://localhost:8080/"
        },
        "id": "g_6G6ooNLPDw",
        "outputId": "ce3a6c69-4f73-41b4-c983-d4557f7210b7"
      },
      "execution_count": null,
      "outputs": [
        {
          "output_type": "execute_result",
          "data": {
            "text/plain": [
              "[{'meta': {'AffectedNodes': [{'ModifiedNode': {'FinalFields': {'Account': 'rGkJhixWWpXHPD4ebcrZAAr37bnMMguhj',\n",
              "       'Balance': '9999998990',\n",
              "       'Flags': 0,\n",
              "       'OwnerCount': 0,\n",
              "       'Sequence': 39806403},\n",
              "      'LedgerEntryType': 'AccountRoot',\n",
              "      'LedgerIndex': '668598A052707517F7EF0707978CD9A83BC7EFDC166576AF856BD67FCB8921F3',\n",
              "      'PreviousFields': {'Balance': '10000000000', 'Sequence': 39806402},\n",
              "      'PreviousTxnID': 'E96CFD20ED955A905E33D0D376AC8AF74F095A13C6D09596B6D21248D360A018',\n",
              "      'PreviousTxnLgrSeq': 39806402}},\n",
              "    {'ModifiedNode': {'FinalFields': {'Account': 'rBALEkaidLzjynofASY8cfD85a5Vsp76ZQ',\n",
              "       'Balance': '10000001000',\n",
              "       'Flags': 0,\n",
              "       'OwnerCount': 0,\n",
              "       'Sequence': 39806404},\n",
              "      'LedgerEntryType': 'AccountRoot',\n",
              "      'LedgerIndex': 'E016AF54516F077BDCD20D13FF54D3BBD13C360C6489E59FF41C5F7864E40664',\n",
              "      'PreviousFields': {'Balance': '10000000000'},\n",
              "      'PreviousTxnID': '2BA612A06C74A4D3D805A74009853DC416CDFFA933A26996D1B41B1009B07EA3',\n",
              "      'PreviousTxnLgrSeq': 39806404}}],\n",
              "   'TransactionIndex': 0,\n",
              "   'TransactionResult': 'tesSUCCESS',\n",
              "   'delivered_amount': '1000'},\n",
              "  'tx': {'Account': 'rGkJhixWWpXHPD4ebcrZAAr37bnMMguhj',\n",
              "   'Amount': '1000',\n",
              "   'Destination': 'rBALEkaidLzjynofASY8cfD85a5Vsp76ZQ',\n",
              "   'Fee': '10',\n",
              "   'Flags': 0,\n",
              "   'LastLedgerSequence': 39806425,\n",
              "   'Sequence': 39806402,\n",
              "   'SigningPubKey': 'ED4C6A63E0F8EB7FBD1D8B6A37513B3557DDA6F468A14737C7DE805BE71C657D2D',\n",
              "   'TransactionType': 'Payment',\n",
              "   'TxnSignature': 'B8A696B2000B1A147E70CD7D4185E26B9F34B9615BA5FDBDC27C8A9B0789F674B973569491BB82B0635072B814BAF598128641E77005D11CFC1D9E244191450D',\n",
              "   'date': 743675772,\n",
              "   'hash': '8628FE16875076B59364578E1EA5478FF1D173F095D0154F2F175524A4F1A8E8',\n",
              "   'inLedger': 39806407,\n",
              "   'ledger_index': 39806407},\n",
              "  'validated': True},\n",
              " {'meta': {'AffectedNodes': [{'ModifiedNode': {'FinalFields': {'Account': 'rPT1Sjq2YGrBMTttX4GZHjKu9dyfzbpAYe',\n",
              "       'Balance': '87559514356598495',\n",
              "       'Flags': 0,\n",
              "       'OwnerCount': 0,\n",
              "       'Sequence': 6188480},\n",
              "      'LedgerEntryType': 'AccountRoot',\n",
              "      'LedgerIndex': '31CCE9D28412FF973E9AB6D0FA219BACF19687D9A2456A0C2ABC3280E9D47E37',\n",
              "      'PreviousFields': {'Balance': '87559524356598507', 'Sequence': 6188479},\n",
              "      'PreviousTxnID': '4D718FAAE33045E769E974DD7997DC501BBB6C5918AD613DA27339AC33365351',\n",
              "      'PreviousTxnLgrSeq': 39806400}},\n",
              "    {'CreatedNode': {'LedgerEntryType': 'AccountRoot',\n",
              "      'LedgerIndex': '668598A052707517F7EF0707978CD9A83BC7EFDC166576AF856BD67FCB8921F3',\n",
              "      'NewFields': {'Account': 'rGkJhixWWpXHPD4ebcrZAAr37bnMMguhj',\n",
              "       'Balance': '10000000000',\n",
              "       'Sequence': 39806402}}}],\n",
              "   'TransactionIndex': 1,\n",
              "   'TransactionResult': 'tesSUCCESS',\n",
              "   'delivered_amount': '10000000000'},\n",
              "  'tx': {'Account': 'rPT1Sjq2YGrBMTttX4GZHjKu9dyfzbpAYe',\n",
              "   'Amount': '10000000000',\n",
              "   'Destination': 'rGkJhixWWpXHPD4ebcrZAAr37bnMMguhj',\n",
              "   'Fee': '12',\n",
              "   'Flags': 2147483648,\n",
              "   'LastLedgerSequence': 39806405,\n",
              "   'Memos': [],\n",
              "   'Sequence': 6188479,\n",
              "   'SigningPubKey': '02356E89059A75438887F9FEE2056A2890DB82A68353BE9C0C0C8F89C0018B37FC',\n",
              "   'TransactionType': 'Payment',\n",
              "   'TxnSignature': '3045022100B2B56BC4DEACDCD49A42D225662808D55D5D88888FB8F0B5414BF2708A93C87902206741A8DAC8255C5417B114421AFCBDF1263B696AA096665278FE258E37079C45',\n",
              "   'date': 743675760,\n",
              "   'hash': 'E96CFD20ED955A905E33D0D376AC8AF74F095A13C6D09596B6D21248D360A018',\n",
              "   'inLedger': 39806402,\n",
              "   'ledger_index': 39806402},\n",
              "  'validated': True}]"
            ]
          },
          "metadata": {},
          "execution_count": 49
        }
      ]
    },
    {
      "cell_type": "markdown",
      "source": [
        "## **토큰 (Token)**\n",
        "\n",
        "`wonj`가 `CAT` 토큰의 발행자가 되어, `jay`에게로 `CAT` 토큰을 10개 전송하는 실습을 진행해보도록 하겠습니다."
      ],
      "metadata": {
        "id": "Xjoyxq3aJGno"
      }
    },
    {
      "cell_type": "code",
      "source": [
        "from xrpl.models.transactions import TrustSet\n",
        "from xrpl.models.currencies import IssuedCurrency\n",
        "from xrpl.models.requests import AccountLines"
      ],
      "metadata": {
        "id": "Ioc99mppPmsf"
      },
      "execution_count": null,
      "outputs": []
    },
    {
      "cell_type": "code",
      "source": [
        "wonj_wallet = generate_faucet_wallet(client=client, debug=True)\n",
        "jay_wallet = generate_faucet_wallet(client=client, debug=True)"
      ],
      "metadata": {
        "colab": {
          "base_uri": "https://localhost:8080/"
        },
        "id": "tsqG4S0LRKGb",
        "outputId": "5267214d-3d1a-4299-ccb0-a90d0b13b7a9"
      },
      "execution_count": null,
      "outputs": [
        {
          "output_type": "stream",
          "name": "stdout",
          "text": [
            "Attempting to fund address rBctcN3tBxDHmAM8WoXX5Lvz3TL8Uuq1tG\n",
            "Faucet fund successful.\n",
            "Attempting to fund address r3VkeEMt76v9iwrzdtW1L2DpeHZCyDn9JD\n",
            "Faucet fund successful.\n"
          ]
        }
      ]
    },
    {
      "cell_type": "markdown",
      "source": [
        "### **Trust Line**\n",
        "\n",
        "XRP Ledger에서 토큰의 이동은 `trust line`을 통해서만 가능합니다.\n",
        "\n",
        "또한 토큰을 받는 계정이 발행자의 계정으로 `trust line`을 설정해야 합니다.\n",
        "\n",
        "`trust line`의 설정은 트랜잭션을 통해 설정이 가능합니다."
      ],
      "metadata": {
        "id": "rTYHQtDZMM_G"
      }
    },
    {
      "cell_type": "code",
      "source": [
        "def set_trust_line(\n",
        "    client: JsonRpcClient,\n",
        "    wallet: Wallet,\n",
        "    token_symbol: str,\n",
        "    issuer_address: str,\n",
        "    limit: str | int,\n",
        "    **kwargs,\n",
        ") -> dict:\n",
        "    \"\"\"\n",
        "    이 계정과 발행자 사이에 특정 토큰에 대한 trust line을 설정합니다.\n",
        "\n",
        "    Args:\n",
        "        client (JsonRpcClient): XRPL과 통신하기 위한 클라이언트 객체 입니다.\n",
        "        wallet (Wallet): 트랜잭션을 제출하는 계정의 지갑 객체입니다.\n",
        "        token_symbol (str): trust line의 토큰입니다.\n",
        "        issuer_address (Address): 토큰의 발행자 주소입니다.\n",
        "        limit (str | int): trust line의 한도입니다.\n",
        "        **kwargs: 트랜잭션 설정에 추가로 전달할 선택적 매개변수입니다.\n",
        "\n",
        "    Returns:\n",
        "        dict: 트랜잭션의 결과입니다.\n",
        "    \"\"\"\n",
        "    # create issued currency instance\n",
        "    issued_currency = IssuedCurrency(currency=token_symbol, issuer=issuer_address)\n",
        "\n",
        "    # convert to IssuedCurrencyAmount\n",
        "    limit_amount = issued_currency.to_amount(value=str(limit))\n",
        "\n",
        "    # create TrustSet transaction\n",
        "    trust_set_tx = TrustSet(\n",
        "        account=wallet.address,\n",
        "        limit_amount=limit_amount,\n",
        "        **kwargs,\n",
        "    )\n",
        "\n",
        "    # Submit transaction and return result\n",
        "    return submit_transaction(\n",
        "        client=client, wallet=wallet, transaction=trust_set_tx, check_fee=True\n",
        "    )"
      ],
      "metadata": {
        "id": "8Coz9VEjMMp1"
      },
      "execution_count": null,
      "outputs": []
    },
    {
      "cell_type": "markdown",
      "source": [
        "`wonj`가 `CAT`의 발행자이므로, `jay`가 `wonj`에게 `CAT` 토큰에 대한 `trust line`을 설정합니다."
      ],
      "metadata": {
        "id": "qE3S9A9aR86M"
      }
    },
    {
      "cell_type": "code",
      "source": [
        "result = set_trust_line(\n",
        "    client=client,\n",
        "    wallet=jay_wallet,\n",
        "    token_symbol=\"CAT\",\n",
        "    issuer_address=wonj_wallet.address,\n",
        "    limit=\"50\",\n",
        ")"
      ],
      "metadata": {
        "id": "vDWFtRmlRIKh"
      },
      "execution_count": null,
      "outputs": []
    },
    {
      "cell_type": "code",
      "source": [
        "result"
      ],
      "metadata": {
        "colab": {
          "base_uri": "https://localhost:8080/"
        },
        "id": "PGTptKwcS03N",
        "outputId": "a4a9c3b0-70cb-4c76-8632-5e99e80144bb"
      },
      "execution_count": null,
      "outputs": [
        {
          "output_type": "execute_result",
          "data": {
            "text/plain": [
              "{'Account': 'r3VkeEMt76v9iwrzdtW1L2DpeHZCyDn9JD',\n",
              " 'Fee': '10',\n",
              " 'Flags': 0,\n",
              " 'LastLedgerSequence': 39806432,\n",
              " 'LimitAmount': {'currency': 'CAT',\n",
              "  'issuer': 'rBctcN3tBxDHmAM8WoXX5Lvz3TL8Uuq1tG',\n",
              "  'value': '50'},\n",
              " 'Sequence': 39806411,\n",
              " 'SigningPubKey': 'ED604F55824B727C2C044755403FC3E4D83FEC031035A92FD86302BC8E33EC2C04',\n",
              " 'TransactionType': 'TrustSet',\n",
              " 'TxnSignature': 'B8F1F79F6FBDAC7F081C2FC2314006CCE115A0DC444304C65807C4985ABC65C08FC5C45FD968DCC2D33FCC666D07EC9F467D31C3D9CF2CE3F5C739ABA145CA03',\n",
              " 'date': 743675792,\n",
              " 'hash': 'F90912BE53E6CDBBC012FAEA8E19F2F531F79EF69F69DECD7F8B4AF30A27A0EB',\n",
              " 'inLedger': 39806413,\n",
              " 'ledger_index': 39806413,\n",
              " 'meta': {'AffectedNodes': [{'ModifiedNode': {'FinalFields': {'Account': 'r3VkeEMt76v9iwrzdtW1L2DpeHZCyDn9JD',\n",
              "      'Balance': '9999999990',\n",
              "      'Flags': 0,\n",
              "      'OwnerCount': 1,\n",
              "      'Sequence': 39806412},\n",
              "     'LedgerEntryType': 'AccountRoot',\n",
              "     'LedgerIndex': '6611529643B3A738E246DB7EFD5999B9747C094020E532C0302024E6AFA804E6',\n",
              "     'PreviousFields': {'Balance': '10000000000',\n",
              "      'OwnerCount': 0,\n",
              "      'Sequence': 39806411},\n",
              "     'PreviousTxnID': '39BE3BE0524A2AC949A6C071AEAE33FED39113442E7A1EEDC1B1D499B32B5537',\n",
              "     'PreviousTxnLgrSeq': 39806411}},\n",
              "   {'CreatedNode': {'LedgerEntryType': 'DirectoryNode',\n",
              "     'LedgerIndex': 'A3555F75DCF5D06E3560F9D0B8D524EF7CFAB4208984F3273DF269BA768E65A3',\n",
              "     'NewFields': {'Owner': 'rBctcN3tBxDHmAM8WoXX5Lvz3TL8Uuq1tG',\n",
              "      'RootIndex': 'A3555F75DCF5D06E3560F9D0B8D524EF7CFAB4208984F3273DF269BA768E65A3'}}},\n",
              "   {'CreatedNode': {'LedgerEntryType': 'DirectoryNode',\n",
              "     'LedgerIndex': 'CB8305AE7BC3D53359527CB31B278D6C428CDAE961410A7E2BDEDCDDE95E0EA1',\n",
              "     'NewFields': {'Owner': 'r3VkeEMt76v9iwrzdtW1L2DpeHZCyDn9JD',\n",
              "      'RootIndex': 'CB8305AE7BC3D53359527CB31B278D6C428CDAE961410A7E2BDEDCDDE95E0EA1'}}},\n",
              "   {'CreatedNode': {'LedgerEntryType': 'RippleState',\n",
              "     'LedgerIndex': 'FBE43399DAC1BF7FF5F866AF77B090BC9F92C38FF3FB33BCAF90944858D3D283',\n",
              "     'NewFields': {'Balance': {'currency': 'CAT',\n",
              "       'issuer': 'rrrrrrrrrrrrrrrrrrrrBZbvji',\n",
              "       'value': '0'},\n",
              "      'Flags': 2162688,\n",
              "      'HighLimit': {'currency': 'CAT',\n",
              "       'issuer': 'rBctcN3tBxDHmAM8WoXX5Lvz3TL8Uuq1tG',\n",
              "       'value': '0'},\n",
              "      'LowLimit': {'currency': 'CAT',\n",
              "       'issuer': 'r3VkeEMt76v9iwrzdtW1L2DpeHZCyDn9JD',\n",
              "       'value': '50'}}}},\n",
              "   {'ModifiedNode': {'LedgerEntryType': 'AccountRoot',\n",
              "     'LedgerIndex': 'FF71FE37D0B70F869057590F70C00D80AB736DB306327363D91225FA8AD81ED0',\n",
              "     'PreviousTxnID': '3968CFF28B37E0167D91D3B30011871261130F8D0AA7CCF2C27CCD9E192B8341',\n",
              "     'PreviousTxnLgrSeq': 39806409}}],\n",
              "  'TransactionIndex': 2,\n",
              "  'TransactionResult': 'tesSUCCESS'},\n",
              " 'validated': True}"
            ]
          },
          "metadata": {},
          "execution_count": 54
        }
      ]
    },
    {
      "cell_type": "markdown",
      "source": [
        "이제 `jay`는 `wonj`로부터 발행된 `CAT` 토큰을 50개까지 보유할 수 있습니다."
      ],
      "metadata": {
        "id": "yb9Yrt_zSWKj"
      }
    },
    {
      "cell_type": "code",
      "source": [
        "def send_token(\n",
        "    client: JsonRpcClient,\n",
        "    wallet: Wallet,\n",
        "    destination_address: str,\n",
        "    token_symbol: str,\n",
        "    issuer_address: str,\n",
        "    amount: str | int,\n",
        "    **kwargs,\n",
        ") -> dict:\n",
        "    \"\"\"\n",
        "    계정에서 목적지 주소로 토큰을 보냅니다.\n",
        "\n",
        "    Args:\n",
        "        client (JsonRpcClient): XRPL과 통신하기 위한 클라이언트 객체 입니다.\n",
        "        wallet (Wallet): 토큰을 보내는 계정의 지갑 객체입니다.\n",
        "        destination_address (str): 토큰을 받을 계정의 주소입니다.\n",
        "        token_symbol (str): 보낼 토큰의 이름입니다.\n",
        "        issuer_address (str): 보낼 토큰의 발행자 주소입니다.\n",
        "        amount (str | int): 보낼 토큰의 양입니다.\n",
        "        **kwargs: 트랜잭션 설정에 추가로 전달할 선택적 매개변수입니다.\n",
        "\n",
        "    Returns:\n",
        "        dict: 트랜잭션의 결과입니다.\n",
        "    \"\"\"\n",
        "    # create issued currency instance\n",
        "    issued_currency = IssuedCurrency(currency=token_symbol, issuer=issuer_address)\n",
        "\n",
        "    # convert to IssuedCurrencyAmount\n",
        "    amount = issued_currency.to_amount(value=amount)\n",
        "\n",
        "    # create payment transaction\n",
        "    payment_tx = Payment(\n",
        "        account=wallet.address,\n",
        "        amount=amount,\n",
        "        destination=destination_address,\n",
        "        **kwargs,\n",
        "    )\n",
        "\n",
        "    # Submit transaction and return result\n",
        "    return submit_transaction(\n",
        "        client=client, wallet=wallet, transaction=payment_tx, check_fee=True\n",
        "    )"
      ],
      "metadata": {
        "id": "O_ainKbH3Nw4"
      },
      "execution_count": null,
      "outputs": []
    },
    {
      "cell_type": "markdown",
      "source": [
        "이제 `wonj`가 `jay`에게 `CAT` 토큰을 10개 전송합니다."
      ],
      "metadata": {
        "id": "cCDsFYfBSUan"
      }
    },
    {
      "cell_type": "code",
      "source": [
        "result = send_token(\n",
        "    client=client,\n",
        "    wallet=wonj_wallet,\n",
        "    destination_address=jay_wallet.address,\n",
        "    token_symbol=\"CAT\",\n",
        "    issuer_address=wonj_wallet.address,\n",
        "    amount=\"10\",\n",
        ")"
      ],
      "metadata": {
        "id": "NfOTwjJ_Sy2B"
      },
      "execution_count": null,
      "outputs": []
    },
    {
      "cell_type": "code",
      "source": [
        "result"
      ],
      "metadata": {
        "colab": {
          "base_uri": "https://localhost:8080/"
        },
        "id": "ngxcrrnOTVRv",
        "outputId": "9d977f2c-665e-4965-d4b3-f726929df17b"
      },
      "execution_count": null,
      "outputs": [
        {
          "output_type": "execute_result",
          "data": {
            "text/plain": [
              "{'Account': 'rBctcN3tBxDHmAM8WoXX5Lvz3TL8Uuq1tG',\n",
              " 'Amount': {'currency': 'CAT',\n",
              "  'issuer': 'rBctcN3tBxDHmAM8WoXX5Lvz3TL8Uuq1tG',\n",
              "  'value': '10'},\n",
              " 'Destination': 'r3VkeEMt76v9iwrzdtW1L2DpeHZCyDn9JD',\n",
              " 'Fee': '10',\n",
              " 'Flags': 0,\n",
              " 'LastLedgerSequence': 39806449,\n",
              " 'Sequence': 39806409,\n",
              " 'SigningPubKey': 'EDD306D1C7E3A062CCCD743D5323FC47DEBD470980A24AC93F1AB3A79BF1C708EA',\n",
              " 'TransactionType': 'Payment',\n",
              " 'TxnSignature': 'D1BA283C9CBD3783BD1B601137EBBA6AB228A92725744DD2AACC814A332C8CE6AF5FE823EB146CF8097C3401265FC11E512967510FBAEFADA1AD15109DF7570B',\n",
              " 'date': 743675851,\n",
              " 'hash': '07D1534011C5D6F00A3BB41F41FFE778B7427B9034F9A368F9FE0593848C1555',\n",
              " 'inLedger': 39806431,\n",
              " 'ledger_index': 39806431,\n",
              " 'meta': {'AffectedNodes': [{'ModifiedNode': {'FinalFields': {'Balance': {'currency': 'CAT',\n",
              "       'issuer': 'rrrrrrrrrrrrrrrrrrrrBZbvji',\n",
              "       'value': '10'},\n",
              "      'Flags': 2162688,\n",
              "      'HighLimit': {'currency': 'CAT',\n",
              "       'issuer': 'rBctcN3tBxDHmAM8WoXX5Lvz3TL8Uuq1tG',\n",
              "       'value': '0'},\n",
              "      'HighNode': '0',\n",
              "      'LowLimit': {'currency': 'CAT',\n",
              "       'issuer': 'r3VkeEMt76v9iwrzdtW1L2DpeHZCyDn9JD',\n",
              "       'value': '50'},\n",
              "      'LowNode': '0'},\n",
              "     'LedgerEntryType': 'RippleState',\n",
              "     'LedgerIndex': 'FBE43399DAC1BF7FF5F866AF77B090BC9F92C38FF3FB33BCAF90944858D3D283',\n",
              "     'PreviousFields': {'Balance': {'currency': 'CAT',\n",
              "       'issuer': 'rrrrrrrrrrrrrrrrrrrrBZbvji',\n",
              "       'value': '0'}},\n",
              "     'PreviousTxnID': 'F90912BE53E6CDBBC012FAEA8E19F2F531F79EF69F69DECD7F8B4AF30A27A0EB',\n",
              "     'PreviousTxnLgrSeq': 39806413}},\n",
              "   {'ModifiedNode': {'FinalFields': {'Account': 'rBctcN3tBxDHmAM8WoXX5Lvz3TL8Uuq1tG',\n",
              "      'Balance': '9999999990',\n",
              "      'Flags': 0,\n",
              "      'OwnerCount': 0,\n",
              "      'Sequence': 39806410},\n",
              "     'LedgerEntryType': 'AccountRoot',\n",
              "     'LedgerIndex': 'FF71FE37D0B70F869057590F70C00D80AB736DB306327363D91225FA8AD81ED0',\n",
              "     'PreviousFields': {'Balance': '10000000000', 'Sequence': 39806409},\n",
              "     'PreviousTxnID': 'F90912BE53E6CDBBC012FAEA8E19F2F531F79EF69F69DECD7F8B4AF30A27A0EB',\n",
              "     'PreviousTxnLgrSeq': 39806413}}],\n",
              "  'TransactionIndex': 0,\n",
              "  'TransactionResult': 'tesSUCCESS',\n",
              "  'delivered_amount': {'currency': 'CAT',\n",
              "   'issuer': 'rBctcN3tBxDHmAM8WoXX5Lvz3TL8Uuq1tG',\n",
              "   'value': '10'}},\n",
              " 'validated': True}"
            ]
          },
          "metadata": {},
          "execution_count": 60
        }
      ]
    },
    {
      "cell_type": "markdown",
      "source": [
        "### **계정의 Trust Line 확인**\n",
        "\n",
        "Ledger로부터 정보를 요청해서 계정이 보유한 trust line들을 확인할 수 있습니다.\n",
        "\n",
        "검색하길 원하는 토큰의 심볼을 매개변수로 주면, 그 토큰의 정보만 필터링하도록 하는 추가 코드가 있습니다."
      ],
      "metadata": {
        "id": "ykcQuHKOTYET"
      }
    },
    {
      "cell_type": "code",
      "source": [
        "def get_trust_lines(\n",
        "    client: JsonRpcClient,\n",
        "    address: str,\n",
        "    token_symbol: str = None,\n",
        "    **kwargs\n",
        ") -> dict:\n",
        "    \"\"\"\n",
        "    이 계정의 trust line을 조회합니다.\n",
        "\n",
        "    Args:\n",
        "        client (JsonRpcClient): 요청을 보낼 클라이언트입니다.\n",
        "        address (str): trust line을 조회할 계정의 주소입니다.\n",
        "        token_symbol (Optional[str], optional): 조회할 토큰의 심볼입니다. None이면 모두 조회합니다. 기본값은 None입니다.\n",
        "        **kwargs: 추가적인 선택적 매개변수들입니다.\n",
        "\n",
        "    Returns:\n",
        "        dict: 계정의 trust line을 포함하는 딕셔너리 객체입니다.\n",
        "    \"\"\"\n",
        "    # Get trust lines\n",
        "    result = request_ledger(client, AccountLines(account=address, **kwargs))\n",
        "\n",
        "    # Filter by token_name (if provided)\n",
        "    if token_symbol is not None:\n",
        "        return [\n",
        "            line for line in result[\"lines\"] if line[\"currency\"] == token_symbol\n",
        "        ]\n",
        "\n",
        "    # Return trust lines\n",
        "    return result[\"lines\"]"
      ],
      "metadata": {
        "id": "0awM-vtETvn3"
      },
      "execution_count": null,
      "outputs": []
    },
    {
      "cell_type": "markdown",
      "source": [
        "`wonj`와 `jay`의 `trust line`을 확인해보면 다음과 같습니다."
      ],
      "metadata": {
        "id": "lm9ltNIIUzip"
      }
    },
    {
      "cell_type": "code",
      "source": [
        "wonj_lines = get_trust_lines(client=client, address=wonj_wallet.address, token_symbol=\"CAT\")\n",
        "jay_lines = get_trust_lines(client=client, address=jay_wallet.address, token_symbol=\"CAT\")"
      ],
      "metadata": {
        "id": "F_vPYsGtU61m"
      },
      "execution_count": null,
      "outputs": []
    },
    {
      "cell_type": "code",
      "source": [
        "wonj_lines"
      ],
      "metadata": {
        "colab": {
          "base_uri": "https://localhost:8080/"
        },
        "id": "QdFR5ZcgVojJ",
        "outputId": "b5fc53df-f5ad-45d6-c73d-4f07fe8e91d4"
      },
      "execution_count": null,
      "outputs": [
        {
          "output_type": "execute_result",
          "data": {
            "text/plain": [
              "[{'account': 'r3VkeEMt76v9iwrzdtW1L2DpeHZCyDn9JD',\n",
              "  'balance': '-10',\n",
              "  'currency': 'CAT',\n",
              "  'limit': '0',\n",
              "  'limit_peer': '50',\n",
              "  'no_ripple': True,\n",
              "  'no_ripple_peer': False,\n",
              "  'quality_in': 0,\n",
              "  'quality_out': 0}]"
            ]
          },
          "metadata": {},
          "execution_count": 63
        }
      ]
    },
    {
      "cell_type": "code",
      "source": [
        "jay_lines"
      ],
      "metadata": {
        "colab": {
          "base_uri": "https://localhost:8080/"
        },
        "id": "NmqWhcDXVqlZ",
        "outputId": "61334832-f0db-4657-e8e6-b8046b462006"
      },
      "execution_count": null,
      "outputs": [
        {
          "output_type": "execute_result",
          "data": {
            "text/plain": [
              "[{'account': 'rBctcN3tBxDHmAM8WoXX5Lvz3TL8Uuq1tG',\n",
              "  'balance': '10',\n",
              "  'currency': 'CAT',\n",
              "  'limit': '50',\n",
              "  'limit_peer': '0',\n",
              "  'no_ripple': False,\n",
              "  'no_ripple_peer': True,\n",
              "  'quality_in': 0,\n",
              "  'quality_out': 0}]"
            ]
          },
          "metadata": {},
          "execution_count": 64
        }
      ]
    },
    {
      "cell_type": "markdown",
      "source": [
        "## **끝으로 ..**\n",
        "\n",
        "여기까지 이번 XRPL 개발자 밋업의 개발 세션까지 전부 끝이 났습니다!! 👏\n",
        "\n",
        "모든 자료는 깃허브로 공개가 될 예정이고, 발표자료는 [Marp](https://marp.app)라는 툴을 이용해 마크다운으로 제작했습니다.\n",
        "\n",
        "질문은 곧 있을 Q&A 세션이나 이메일(wonjae@catalyze-research.com) 또는 텔레그램(@wonj1012)으로  편하게 질문 주시면 답변해 드리겠습니다.\n",
        "\n",
        "현재 카탈라이즈 리서치에서는 제가 XRP Ledger 개발 한국어 커리큘럼을 제작 중에 있습니다.\n",
        "\n",
        "9월이나 10월에 공개가 될 예정인데, 많은 관심 부탁드리겠습니다!!"
      ],
      "metadata": {
        "id": "sgj-rGMGZm-1"
      }
    },
    {
      "cell_type": "markdown",
      "source": [
        "## Further Information\n",
        "\n",
        "-   [XRPL Developer Portal](https://xrpl.org)\n",
        "-   [XRPL Foundation](https://foundation.xrpl.org/)\n",
        "-   [SHAMap](https://github.com/XRPLF/rippled/blob/develop/src/ripple/shamap/README.md)\n",
        "-   [RPCA Whitepaper](https://ripple.com/files/ripple_consensus_whitepaper.pdf)\n",
        "-   [Sologenic](https://www.sologenic.com/)\n",
        "-   [XLS-30d AMM](https://opensource.ripple.com/docs/xls-30d-amm/amm-uc/)\n",
        "-   [XLS-30d AMM (more technical)](https://github.com/XRPLF/XRPL-Standards/discussions/78)\n",
        "-   [Hooks](https://xrpl-hooks.readme.io/)\n",
        "-   [EVM Sidechain](https://opensource.ripple.com/docs/evm-sidechain/intro-to-evm-sidechain/)"
      ],
      "metadata": {
        "id": "B_k7Ud5N-7Jp"
      }
    }
  ]
}